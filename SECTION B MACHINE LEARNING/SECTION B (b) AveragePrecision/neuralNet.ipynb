{
  "nbformat": 4,
  "nbformat_minor": 0,
  "metadata": {
    "colab": {
      "name": "neuralNet.ipynb",
      "version": "0.3.2",
      "provenance": []
    },
    "kernelspec": {
      "display_name": "Python 3",
      "language": "python",
      "name": "python3"
    }
  },
  "cells": [
    {
      "metadata": {
        "id": "05J2jW1uWHPa",
        "colab_type": "text"
      },
      "cell_type": "markdown",
      "source": [
        "# Importing Libraries"
      ]
    },
    {
      "metadata": {
        "id": "Uo436y3bWFej",
        "colab_type": "code",
        "colab": {}
      },
      "cell_type": "code",
      "source": [
        "import torch\n",
        "import torch.nn.functional as F\n",
        "import torch.autograd as Variable\n",
        "import matplotlib.pyplot as plt\n",
        "import pandas as pd\n",
        "import numpy as np\n",
        "from sklearn.model_selection import train_test_split\n",
        "from sklearn.metrics import classification_report, confusion_matrix\n",
        "import seaborn as sns\n",
        "import matplotlib.pyplot as plt"
      ],
      "execution_count": 0,
      "outputs": []
    },
    {
      "metadata": {
        "id": "JDLMIqv5WNfN",
        "colab_type": "text"
      },
      "cell_type": "markdown",
      "source": [
        "# Neural Network Class\n"
      ]
    },
    {
      "metadata": {
        "id": "TYA-z10BWFew",
        "colab_type": "code",
        "colab": {}
      },
      "cell_type": "code",
      "source": [
        "class Net(torch.nn.Module):\n",
        "    def __init__(self , n_feature , n_hidden , n_output):\n",
        "        super(Net , self).__init__()\n",
        "        self.hidden = torch.nn.Linear(n_feature , n_hidden)\n",
        "       \n",
        "        self.output = torch.nn.Linear(n_hidden , n_output)\n",
        "        \n",
        "    def forward(self , x):\n",
        "        x = F.relu(self.hidden(x))\n",
        "        x = F.softmax(self.output(x))\n",
        "        return x\n",
        "        "
      ],
      "execution_count": 0,
      "outputs": []
    },
    {
      "metadata": {
        "id": "J0Yd7yOPcgLF",
        "colab_type": "text"
      },
      "cell_type": "markdown",
      "source": [
        "# Creating Object of Class"
      ]
    },
    {
      "metadata": {
        "id": "9LL2_1daWFe4",
        "colab_type": "code",
        "colab": {
          "base_uri": "https://localhost:8080/",
          "height": 92
        },
        "outputId": "5e870ec8-8bcd-41ba-98eb-85969e49c242"
      },
      "cell_type": "code",
      "source": [
        "net = Net(n_feature=17 , n_hidden=10 , n_output=7)\n",
        "print(net)"
      ],
      "execution_count": 19,
      "outputs": [
        {
          "output_type": "stream",
          "text": [
            "Net(\n",
            "  (hidden): Linear(in_features=17, out_features=10, bias=True)\n",
            "  (output): Linear(in_features=10, out_features=7, bias=True)\n",
            ")\n"
          ],
          "name": "stdout"
        }
      ]
    },
    {
      "metadata": {
        "id": "hASGJs3NWFfC",
        "colab_type": "code",
        "colab": {}
      },
      "cell_type": "code",
      "source": [
        "optimizer = torch.optim.Adam(net.parameters() , lr = 0.01)\n",
        "loss_func = torch.nn.CrossEntropyLoss()"
      ],
      "execution_count": 0,
      "outputs": []
    },
    {
      "metadata": {
        "id": "_Zq2hUc7WW0x",
        "colab_type": "text"
      },
      "cell_type": "markdown",
      "source": [
        "# Reading from File"
      ]
    },
    {
      "metadata": {
        "id": "cqoTtoVwWFfI",
        "colab_type": "code",
        "colab": {}
      },
      "cell_type": "code",
      "source": [
        "data = pd.read_pickle('dataP')"
      ],
      "execution_count": 0,
      "outputs": []
    },
    {
      "metadata": {
        "id": "w3OEwllEWFfM",
        "colab_type": "code",
        "colab": {
          "base_uri": "https://localhost:8080/",
          "height": 206
        },
        "outputId": "42e2ad26-1d00-43b5-9880-84640db33688"
      },
      "cell_type": "code",
      "source": [
        "data.head()"
      ],
      "execution_count": 22,
      "outputs": [
        {
          "output_type": "execute_result",
          "data": {
            "text/html": [
              "<div>\n",
              "<style scoped>\n",
              "    .dataframe tbody tr th:only-of-type {\n",
              "        vertical-align: middle;\n",
              "    }\n",
              "\n",
              "    .dataframe tbody tr th {\n",
              "        vertical-align: top;\n",
              "    }\n",
              "\n",
              "    .dataframe thead th {\n",
              "        text-align: right;\n",
              "    }\n",
              "</style>\n",
              "<table border=\"1\" class=\"dataframe\">\n",
              "  <thead>\n",
              "    <tr style=\"text-align: right;\">\n",
              "      <th></th>\n",
              "      <th>name</th>\n",
              "      <th>1</th>\n",
              "      <th>2</th>\n",
              "      <th>3</th>\n",
              "      <th>4</th>\n",
              "      <th>5</th>\n",
              "      <th>6</th>\n",
              "      <th>7</th>\n",
              "      <th>8</th>\n",
              "      <th>9</th>\n",
              "      <th>10</th>\n",
              "      <th>11</th>\n",
              "      <th>12</th>\n",
              "      <th>13</th>\n",
              "      <th>14</th>\n",
              "      <th>15</th>\n",
              "      <th>16</th>\n",
              "      <th>17</th>\n",
              "      <th>class</th>\n",
              "    </tr>\n",
              "  </thead>\n",
              "  <tbody>\n",
              "    <tr>\n",
              "      <th>0</th>\n",
              "      <td>aardvark</td>\n",
              "      <td>1</td>\n",
              "      <td>0</td>\n",
              "      <td>0</td>\n",
              "      <td>1</td>\n",
              "      <td>0</td>\n",
              "      <td>0</td>\n",
              "      <td>1</td>\n",
              "      <td>1</td>\n",
              "      <td>1</td>\n",
              "      <td>1</td>\n",
              "      <td>0</td>\n",
              "      <td>0</td>\n",
              "      <td>4</td>\n",
              "      <td>0</td>\n",
              "      <td>0</td>\n",
              "      <td>1</td>\n",
              "      <td>1</td>\n",
              "      <td>1</td>\n",
              "    </tr>\n",
              "    <tr>\n",
              "      <th>1</th>\n",
              "      <td>antelope</td>\n",
              "      <td>1</td>\n",
              "      <td>0</td>\n",
              "      <td>0</td>\n",
              "      <td>1</td>\n",
              "      <td>0</td>\n",
              "      <td>0</td>\n",
              "      <td>0</td>\n",
              "      <td>1</td>\n",
              "      <td>1</td>\n",
              "      <td>1</td>\n",
              "      <td>0</td>\n",
              "      <td>0</td>\n",
              "      <td>4</td>\n",
              "      <td>1</td>\n",
              "      <td>0</td>\n",
              "      <td>1</td>\n",
              "      <td>1</td>\n",
              "      <td>1</td>\n",
              "    </tr>\n",
              "    <tr>\n",
              "      <th>2</th>\n",
              "      <td>bass</td>\n",
              "      <td>0</td>\n",
              "      <td>0</td>\n",
              "      <td>1</td>\n",
              "      <td>0</td>\n",
              "      <td>0</td>\n",
              "      <td>1</td>\n",
              "      <td>1</td>\n",
              "      <td>1</td>\n",
              "      <td>1</td>\n",
              "      <td>0</td>\n",
              "      <td>0</td>\n",
              "      <td>1</td>\n",
              "      <td>0</td>\n",
              "      <td>1</td>\n",
              "      <td>0</td>\n",
              "      <td>0</td>\n",
              "      <td>4</td>\n",
              "      <td>4</td>\n",
              "    </tr>\n",
              "    <tr>\n",
              "      <th>3</th>\n",
              "      <td>bear</td>\n",
              "      <td>1</td>\n",
              "      <td>0</td>\n",
              "      <td>0</td>\n",
              "      <td>1</td>\n",
              "      <td>0</td>\n",
              "      <td>0</td>\n",
              "      <td>1</td>\n",
              "      <td>1</td>\n",
              "      <td>1</td>\n",
              "      <td>1</td>\n",
              "      <td>0</td>\n",
              "      <td>0</td>\n",
              "      <td>4</td>\n",
              "      <td>0</td>\n",
              "      <td>0</td>\n",
              "      <td>1</td>\n",
              "      <td>1</td>\n",
              "      <td>1</td>\n",
              "    </tr>\n",
              "    <tr>\n",
              "      <th>4</th>\n",
              "      <td>boar</td>\n",
              "      <td>1</td>\n",
              "      <td>0</td>\n",
              "      <td>0</td>\n",
              "      <td>1</td>\n",
              "      <td>0</td>\n",
              "      <td>0</td>\n",
              "      <td>1</td>\n",
              "      <td>1</td>\n",
              "      <td>1</td>\n",
              "      <td>1</td>\n",
              "      <td>0</td>\n",
              "      <td>0</td>\n",
              "      <td>4</td>\n",
              "      <td>1</td>\n",
              "      <td>0</td>\n",
              "      <td>1</td>\n",
              "      <td>1</td>\n",
              "      <td>1</td>\n",
              "    </tr>\n",
              "  </tbody>\n",
              "</table>\n",
              "</div>"
            ],
            "text/plain": [
              "       name  1  2  3  4  5  6  7  8  9  10  11  12  13  14  15  16  17  class\n",
              "0  aardvark  1  0  0  1  0  0  1  1  1   1   0   0   4   0   0   1   1      1\n",
              "1  antelope  1  0  0  1  0  0  0  1  1   1   0   0   4   1   0   1   1      1\n",
              "2      bass  0  0  1  0  0  1  1  1  1   0   0   1   0   1   0   0   4      4\n",
              "3      bear  1  0  0  1  0  0  1  1  1   1   0   0   4   0   0   1   1      1\n",
              "4      boar  1  0  0  1  0  0  1  1  1   1   0   0   4   1   0   1   1      1"
            ]
          },
          "metadata": {
            "tags": []
          },
          "execution_count": 22
        }
      ]
    },
    {
      "metadata": {
        "id": "gjItaM7TWaou",
        "colab_type": "text"
      },
      "cell_type": "markdown",
      "source": [
        "# Data Preprocessing"
      ]
    },
    {
      "metadata": {
        "id": "_hnNokRAWFfT",
        "colab_type": "code",
        "colab": {}
      },
      "cell_type": "code",
      "source": [
        "x = data.drop(['name' , 'class'] , axis = 1)"
      ],
      "execution_count": 0,
      "outputs": []
    },
    {
      "metadata": {
        "id": "qO51jcpOWFfb",
        "colab_type": "code",
        "colab": {}
      },
      "cell_type": "code",
      "source": [
        "y = data['class']"
      ],
      "execution_count": 0,
      "outputs": []
    },
    {
      "metadata": {
        "id": "VhZDUlwzWFfj",
        "colab_type": "code",
        "colab": {}
      },
      "cell_type": "code",
      "source": [
        "y = y - 1"
      ],
      "execution_count": 0,
      "outputs": []
    },
    {
      "metadata": {
        "id": "n4IYb7sDWpU4",
        "colab_type": "text"
      },
      "cell_type": "markdown",
      "source": [
        "# Splitting of Data"
      ]
    },
    {
      "metadata": {
        "id": "1wZR3Q_SWFf0",
        "colab_type": "code",
        "colab": {}
      },
      "cell_type": "code",
      "source": [
        "xtrain, xtest, ytrain, ytest = train_test_split(x , y , test_size = 0.20, stratify = y)"
      ],
      "execution_count": 0,
      "outputs": []
    },
    {
      "metadata": {
        "id": "pIpnciw4WFf6",
        "colab_type": "code",
        "colab": {}
      },
      "cell_type": "code",
      "source": [
        "xtrain = np.asarray(xtrain)\n",
        "ytrain = np.asarray(ytrain)\n",
        "xtest = np.asarray(xtest)\n",
        "ytest = np.asarray(ytest)"
      ],
      "execution_count": 0,
      "outputs": []
    },
    {
      "metadata": {
        "id": "0PginJDWWFf-",
        "colab_type": "code",
        "colab": {}
      },
      "cell_type": "code",
      "source": [
        "xtrain = torch.from_numpy(xtrain)\n",
        "ytrain = torch.from_numpy(ytrain)\n",
        "xtest = torch.from_numpy(xtest)\n",
        "ytest = torch.from_numpy(ytest)"
      ],
      "execution_count": 0,
      "outputs": []
    },
    {
      "metadata": {
        "id": "AQPhMUfPWFgC",
        "colab_type": "code",
        "colab": {}
      },
      "cell_type": "code",
      "source": [
        "xtrain = xtrain.type(torch.FloatTensor)\n",
        "ytrain = ytrain.type(torch.LongTensor)\n",
        "xtest = xtest.type(torch.FloatTensor)\n",
        "ytest = ytest.type(torch.LongTensor)"
      ],
      "execution_count": 0,
      "outputs": []
    },
    {
      "metadata": {
        "id": "D7kM00hacpeV",
        "colab_type": "text"
      },
      "cell_type": "markdown",
      "source": [
        "# Calculating Accuracy of NN on Training Data "
      ]
    },
    {
      "metadata": {
        "id": "hPDmEFlTWFgH",
        "colab_type": "code",
        "colab": {
          "base_uri": "https://localhost:8080/",
          "height": 448
        },
        "outputId": "72ca69d2-d322-42a4-cd67-c0d3eea80b9c"
      },
      "cell_type": "code",
      "source": [
        "for i in range(2000):\n",
        "    predict = net(xtrain)\n",
        "    loss = loss_func(predict , ytrain)\n",
        "    optimizer.zero_grad()   # clear gradients for next train\n",
        "    loss.backward()         # backpropagation, compute gradients\n",
        "    optimizer.step()        \n",
        "    #print(loss)\n",
        "    if i % 200 == 0:\n",
        "        # plot and show learning process\n",
        "        # plt.cla()\n",
        "        prediction = torch.max(predict, 1)[1]\n",
        "        pred_y = prediction.data.numpy().squeeze()\n",
        "        target_y = ytrain.data.numpy()\n",
        "        accuracy = float((pred_y == target_y).astype(int).sum()) / float(target_y.size)\n",
        "        print(\"Loss after Epoch\",i,\":\",loss)\n",
        "        print(\"Accuracy after Epoch\",i,\":\",accuracy*100,\"%\")\n",
        "        \n",
        "              "
      ],
      "execution_count": 30,
      "outputs": [
        {
          "output_type": "stream",
          "text": [
            "Loss after Epoch 0 : tensor(1.9334, grad_fn=<NllLossBackward>)\n",
            "Accuracy after Epoch 0 : 33.75 %\n"
          ],
          "name": "stdout"
        },
        {
          "output_type": "stream",
          "text": [
            "/usr/local/lib/python3.6/dist-packages/ipykernel_launcher.py:10: UserWarning: Implicit dimension choice for softmax has been deprecated. Change the call to include dim=X as an argument.\n",
            "  # Remove the CWD from sys.path while we load stuff.\n"
          ],
          "name": "stderr"
        },
        {
          "output_type": "stream",
          "text": [
            "Loss after Epoch 200 : tensor(1.2497, grad_fn=<NllLossBackward>)\n",
            "Accuracy after Epoch 200 : 92.5 %\n",
            "Loss after Epoch 400 : tensor(1.2141, grad_fn=<NllLossBackward>)\n",
            "Accuracy after Epoch 400 : 95.0 %\n",
            "Loss after Epoch 600 : tensor(1.2135, grad_fn=<NllLossBackward>)\n",
            "Accuracy after Epoch 600 : 95.0 %\n",
            "Loss after Epoch 800 : tensor(1.2133, grad_fn=<NllLossBackward>)\n",
            "Accuracy after Epoch 800 : 95.0 %\n",
            "Loss after Epoch 1000 : tensor(1.2132, grad_fn=<NllLossBackward>)\n",
            "Accuracy after Epoch 1000 : 95.0 %\n",
            "Loss after Epoch 1200 : tensor(1.2131, grad_fn=<NllLossBackward>)\n",
            "Accuracy after Epoch 1200 : 95.0 %\n",
            "Loss after Epoch 1400 : tensor(1.2131, grad_fn=<NllLossBackward>)\n",
            "Accuracy after Epoch 1400 : 95.0 %\n",
            "Loss after Epoch 1600 : tensor(1.2131, grad_fn=<NllLossBackward>)\n",
            "Accuracy after Epoch 1600 : 95.0 %\n",
            "Loss after Epoch 1800 : tensor(1.2131, grad_fn=<NllLossBackward>)\n",
            "Accuracy after Epoch 1800 : 95.0 %\n"
          ],
          "name": "stdout"
        }
      ]
    },
    {
      "metadata": {
        "id": "WG9oo-kuc_Us",
        "colab_type": "text"
      },
      "cell_type": "markdown",
      "source": [
        "# Predicting Accuracy of Test Data"
      ]
    },
    {
      "metadata": {
        "id": "ejjPlQUiWFgN",
        "colab_type": "code",
        "colab": {
          "base_uri": "https://localhost:8080/",
          "height": 93
        },
        "outputId": "78b5ebdf-c822-40b0-bb97-1755ec57caaf"
      },
      "cell_type": "code",
      "source": [
        "predict = net(xtest)\n",
        "prediction = torch.max(predict, 1)[1]\n",
        "pred_y = prediction.data.numpy().squeeze()\n",
        "target_y = ytest.data.numpy()\n",
        "accuracy = float((pred_y == target_y).astype(int).sum()) / float(target_y.size)\n",
        "#print(loss)\n",
        "print(\"Accuracy after Epoch\",i,\":\",accuracy*100,\"%\")"
      ],
      "execution_count": 31,
      "outputs": [
        {
          "output_type": "stream",
          "text": [
            "Accuracy after Epoch 1999 : 95.23809523809523 %\n"
          ],
          "name": "stdout"
        },
        {
          "output_type": "stream",
          "text": [
            "/usr/local/lib/python3.6/dist-packages/ipykernel_launcher.py:10: UserWarning: Implicit dimension choice for softmax has been deprecated. Change the call to include dim=X as an argument.\n",
            "  # Remove the CWD from sys.path while we load stuff.\n"
          ],
          "name": "stderr"
        }
      ]
    },
    {
      "metadata": {
        "id": "nSD9x_mI0Ikt",
        "colab_type": "text"
      },
      "cell_type": "markdown",
      "source": [
        "# Displaying Classification Report and Confusion Matrix"
      ]
    },
    {
      "metadata": {
        "id": "q-ycSg-SWFgR",
        "colab_type": "code",
        "colab": {
          "base_uri": "https://localhost:8080/",
          "height": 467
        },
        "outputId": "32addc1e-7764-4f32-ab71-b44d0dea5dfd"
      },
      "cell_type": "code",
      "source": [
        "print(classification_report(pred_y,target_y))\n",
        "c=confusion_matrix(target_y, pred_y)\n",
        "print (c)"
      ],
      "execution_count": 32,
      "outputs": [
        {
          "output_type": "stream",
          "text": [
            "              precision    recall  f1-score   support\n",
            "\n",
            "           0       1.00      1.00      1.00         8\n",
            "           1       1.00      1.00      1.00         4\n",
            "           2       1.00      0.50      0.67         2\n",
            "           3       1.00      1.00      1.00         3\n",
            "           4       0.00      0.00      0.00         0\n",
            "           5       1.00      1.00      1.00         2\n",
            "           6       1.00      1.00      1.00         2\n",
            "\n",
            "   micro avg       0.95      0.95      0.95        21\n",
            "   macro avg       0.86      0.79      0.81        21\n",
            "weighted avg       1.00      0.95      0.97        21\n",
            "\n",
            "[[8 0 0 0 0 0 0]\n",
            " [0 4 0 0 0 0 0]\n",
            " [0 0 1 0 0 0 0]\n",
            " [0 0 0 3 0 0 0]\n",
            " [0 0 1 0 0 0 0]\n",
            " [0 0 0 0 0 2 0]\n",
            " [0 0 0 0 0 0 2]]\n"
          ],
          "name": "stdout"
        },
        {
          "output_type": "stream",
          "text": [
            "/usr/local/lib/python3.6/dist-packages/sklearn/metrics/classification.py:1145: UndefinedMetricWarning: Recall and F-score are ill-defined and being set to 0.0 in labels with no true samples.\n",
            "  'recall', 'true', average, warn_for)\n"
          ],
          "name": "stderr"
        }
      ]
    },
    {
      "metadata": {
        "id": "MEEXf88H0OlH",
        "colab_type": "text"
      },
      "cell_type": "markdown",
      "source": [
        "# Plotting Heatmap of Confusion Matrix"
      ]
    },
    {
      "metadata": {
        "id": "vwS_kA6KtzrM",
        "colab_type": "code",
        "colab": {
          "base_uri": "https://localhost:8080/",
          "height": 366
        },
        "outputId": "0de69eff-39c9-423f-e130-bd40fdf0f16a"
      },
      "cell_type": "code",
      "source": [
        "sns.heatmap(c)"
      ],
      "execution_count": 33,
      "outputs": [
        {
          "output_type": "execute_result",
          "data": {
            "text/plain": [
              "<matplotlib.axes._subplots.AxesSubplot at 0x7f114c2e6cf8>"
            ]
          },
          "metadata": {
            "tags": []
          },
          "execution_count": 33
        },
        {
          "output_type": "display_data",
          "data": {
            "image/png": "[encoded data removed]",
            "text/plain": [
              "<Figure size 576x396 with 2 Axes>"
            ]
          },
          "metadata": {
            "tags": []
          }
        }
      ]
    },
    {
      "metadata": {
        "id": "Z-ShitJewvUo",
        "colab_type": "code",
        "colab": {}
      },
      "cell_type": "code",
      "source": [
        ""
      ],
      "execution_count": 0,
      "outputs": []
    }
  ]
}